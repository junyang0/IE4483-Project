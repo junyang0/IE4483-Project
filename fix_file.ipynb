{
 "cells": [
  {
   "cell_type": "code",
   "execution_count": 6,
   "metadata": {},
   "outputs": [],
   "source": [
    "import pandas as pd "
   ]
  },
  {
   "cell_type": "code",
   "execution_count": 12,
   "metadata": {},
   "outputs": [],
   "source": [
    "file = pd.read_csv(r'20241106_19-52-09_predictions.csv') \n",
    "file = file.drop('class', axis=1)\n",
    "file['filename'] = file['filename'].str.replace('.jpg' , '').astype(int)\n",
    "file = file.sort_values(by='filename')\n",
    "dog =  file['prediction'] > 0.5\n",
    "cat = file['prediction'] < 0.5\n",
    "file.loc[dog, 'prediction'] = 1\n",
    "file.loc[cat, 'prediction'] = 0\n",
    "file.columns = ['id', 'label']\n",
    "file.to_csv(r'20241106_19-52-09_predictions.csv' , index=False)"
   ]
  },
  {
   "cell_type": "code",
   "execution_count": null,
   "metadata": {},
   "outputs": [],
   "source": []
  }
 ],
 "metadata": {
  "kernelspec": {
   "display_name": "Python 3",
   "language": "python",
   "name": "python3"
  },
  "language_info": {
   "codemirror_mode": {
    "name": "ipython",
    "version": 3
   },
   "file_extension": ".py",
   "mimetype": "text/x-python",
   "name": "python",
   "nbconvert_exporter": "python",
   "pygments_lexer": "ipython3",
   "version": "3.10.13"
  },
  "orig_nbformat": 4
 },
 "nbformat": 4,
 "nbformat_minor": 2
}
